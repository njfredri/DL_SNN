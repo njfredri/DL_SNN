{
 "cells": [
  {
   "cell_type": "markdown",
   "metadata": {},
   "source": [
    "Make simple snn to classify MNIST"
   ]
  },
  {
   "cell_type": "code",
   "execution_count": 1,
   "metadata": {},
   "outputs": [
    {
     "name": "stdout",
     "output_type": "stream",
     "text": [
      "cuda\n"
     ]
    }
   ],
   "source": [
    "import os\n",
    "import time\n",
    "import argparse\n",
    "import sys\n",
    "import datetime\n",
    "import torch\n",
    "import torchvision\n",
    "import torch.nn as nn\n",
    "import torch.nn.functional as F\n",
    "import torch.utils.data as data\n",
    "from torch.cuda import amp\n",
    "import numpy as np\n",
    "from torch.utils.tensorboard import SummaryWriter\n",
    "from spikingjelly.activation_based import lava_exchange\n",
    "\n",
    "\n",
    "from spikingjelly.activation_based import neuron, layer, functional, monitor\n",
    "from spikingjelly.activation_based import surrogate, encoding\n",
    "\n",
    "device = None\n",
    "if torch.cuda.is_available():\n",
    "    device = torch.device('cuda')\n",
    "else:\n",
    "    device = torch.device('cpu')\n",
    "print(device)"
   ]
  },
  {
   "cell_type": "markdown",
   "metadata": {},
   "source": [
    "Define Model"
   ]
  },
  {
   "cell_type": "code",
   "execution_count": 2,
   "metadata": {},
   "outputs": [],
   "source": [
    "class SNN(nn.Module):\n",
    "    def __init__(self, tau):\n",
    "        super().__init__()\n",
    "        self.layer1 = nn.Sequential(\n",
    "            layer.Linear(28*28, 10, bias=False),\n",
    "            neuron.LIFNode(tau=tau, surrogate_function=surrogate.ATan())\n",
    "        )\n",
    "    def forward(self, x: torch.Tensor):\n",
    "        # print(x.shape)\n",
    "        return self.layer1(x)"
   ]
  },
  {
   "cell_type": "markdown",
   "metadata": {},
   "source": [
    "Create a model with a default tau value"
   ]
  },
  {
   "cell_type": "code",
   "execution_count": 3,
   "metadata": {},
   "outputs": [],
   "source": [
    "tau = 2.0 #membrane time constant. \n",
    "#^ A default value in some of the spikingjelly repo files.\n",
    "model = SNN(tau=tau).to(device=device)"
   ]
  },
  {
   "cell_type": "markdown",
   "metadata": {},
   "source": [
    "Download the MNIST dataset and make train and test datasets"
   ]
  },
  {
   "cell_type": "code",
   "execution_count": 4,
   "metadata": {},
   "outputs": [],
   "source": [
    "data_dir='./data'\n",
    "train_dataset = torchvision.datasets.MNIST(\n",
    "    root=data_dir,\n",
    "    train=True,\n",
    "    transform=torchvision.transforms.ToTensor(),\n",
    "    download=True\n",
    ")\n",
    "test_dataset = torchvision.datasets.MNIST(\n",
    "    root=data_dir,\n",
    "    train=False,\n",
    "    transform=torchvision.transforms.ToTensor(),\n",
    "    download=True\n",
    ")"
   ]
  },
  {
   "cell_type": "code",
   "execution_count": 5,
   "metadata": {},
   "outputs": [],
   "source": [
    "batch_size=32\n",
    "num_workers=10 #todo: see if this can be increased with more cores\n",
    "train_data_loader = data.DataLoader(\n",
    "    dataset=train_dataset,\n",
    "    batch_size=batch_size,\n",
    "    shuffle=True,\n",
    "    drop_last=True,\n",
    "    num_workers=num_workers,\n",
    "    pin_memory=True\n",
    ")\n",
    "test_data_loader = data.DataLoader(\n",
    "    dataset=test_dataset,\n",
    "    batch_size=batch_size,\n",
    "    shuffle=False,\n",
    "    drop_last=False,\n",
    "    num_workers=num_workers,\n",
    "    pin_memory=True\n",
    ")"
   ]
  },
  {
   "cell_type": "markdown",
   "metadata": {},
   "source": [
    "More settings"
   ]
  },
  {
   "cell_type": "code",
   "execution_count": 6,
   "metadata": {},
   "outputs": [],
   "source": [
    "EPOCHS=50\n",
    "AMP=True #automatic mixed precision training\n",
    "lr= 0.001\n",
    "optimizer = torch.optim.Adam(model.parameters(), lr=lr)\n",
    "out_dir = \"./outputs/SLM\"\n",
    "encoder = encoding.PoissonEncoder()\n",
    "timesteps = 15"
   ]
  },
  {
   "cell_type": "markdown",
   "metadata": {},
   "source": [
    "Make settings for AMP and outputs"
   ]
  },
  {
   "cell_type": "code",
   "execution_count": 7,
   "metadata": {},
   "outputs": [],
   "source": [
    "scaler = None\n",
    "if AMP:\n",
    "    scaler = amp.GradScaler()\n",
    "if not os.path.exists(out_dir):\n",
    "    os.makedirs(out_dir)\n",
    "    print(f'Mkdir {out_dir}.')\n",
    "\n",
    "writer = SummaryWriter(out_dir, purge_step=0)\n",
    "with open(os.path.join(out_dir, 'args.txt'), 'w', encoding='utf-8') as args_txt:\n",
    "    args_txt.write('\\n')\n",
    "    args_txt.write(' '.join(sys.argv))"
   ]
  },
  {
   "cell_type": "markdown",
   "metadata": {},
   "source": [
    "Start training"
   ]
  },
  {
   "cell_type": "code",
   "execution_count": 8,
   "metadata": {},
   "outputs": [
    {
     "name": "stdout",
     "output_type": "stream",
     "text": [
      "epoch: 0; loss1483.0915752798319\n",
      "epoch: 1; loss1093.1480142846704\n",
      "epoch: 2; loss1033.6684593632817\n",
      "epoch: 3; loss998.5604588165879\n",
      "epoch: 4; loss981.6506809517741\n",
      "epoch: 5; loss961.9164581075311\n",
      "epoch: 6; loss951.537347830832\n",
      "epoch: 7; loss941.334234520793\n",
      "epoch: 8; loss933.3186763897538\n",
      "epoch: 9; loss920.0017856657505\n",
      "epoch: 10; loss921.0937893763185\n",
      "epoch: 11; loss922.0360093489289\n",
      "epoch: 12; loss922.6604538038373\n",
      "epoch: 13; loss921.3768982067704\n",
      "epoch: 14; loss921.1560067981482\n",
      "epoch: 15; loss921.5457861572504\n",
      "epoch: 16; loss922.295121088624\n",
      "epoch: 17; loss918.2773398645222\n",
      "epoch: 18; loss922.0582334920764\n",
      "epoch: 19; loss920.178232267499\n",
      "epoch: 20; loss922.7777863517404\n",
      "epoch: 21; loss920.6004546359181\n",
      "epoch: 22; loss920.7440111264586\n",
      "epoch: 23; loss923.024898186326\n",
      "epoch: 24; loss920.7657874710858\n",
      "epoch: 25; loss919.8426771387458\n",
      "epoch: 26; loss920.7262304574251\n",
      "epoch: 27; loss922.6457889024168\n",
      "epoch: 28; loss921.815567297861\n",
      "epoch: 29; loss921.3644532114267\n",
      "epoch: 30; loss923.8084514662623\n",
      "epoch: 31; loss920.3026759512722\n",
      "epoch: 32; loss920.984009122476\n",
      "epoch: 33; loss920.2804529666901\n",
      "epoch: 34; loss921.6262320950627\n",
      "epoch: 35; loss923.8591222316027\n",
      "epoch: 36; loss923.2457870692015\n",
      "epoch: 37; loss921.1142302006483\n",
      "epoch: 38; loss922.1782304756343\n",
      "epoch: 39; loss921.4000095129013\n",
      "epoch: 40; loss920.8391212970018\n",
      "epoch: 41; loss923.6151215620339\n",
      "epoch: 42; loss920.948010594584\n",
      "epoch: 43; loss921.7497886940837\n",
      "epoch: 44; loss921.48400837183\n",
      "epoch: 45; loss921.4968984946609\n",
      "epoch: 46; loss919.5422335490584\n",
      "epoch: 47; loss919.9382293894887\n",
      "epoch: 48; loss919.8333427160978\n",
      "epoch: 49; loss923.0888977274299\n"
     ]
    }
   ],
   "source": [
    "functional.reset_net(model)\n",
    "for epoch in range(EPOCHS):\n",
    "    start_time = time.time()\n",
    "    model.train()\n",
    "    train_loss = 0\n",
    "    train_acc = 0\n",
    "    train_samples = 0\n",
    "    for x, label in train_data_loader:\n",
    "        x = x.to(device)\n",
    "        x = torch.reshape(x, (batch_size, -1))\n",
    "        label = label.to(device)\n",
    "        label_onehot = F.one_hot(label, 10).float()\n",
    "\n",
    "        if scaler is None:\n",
    "            out_fr = 0.\n",
    "            for t in range(timesteps):\n",
    "                encoded_img = encoder(x)\n",
    "                out_fr += model(encoded_img)\n",
    "            out_fr = out_fr / timesteps\n",
    "            loss = F.mse_loss(out_fr, label_onehot)\n",
    "            loss.backward()\n",
    "            optimizer.step()\n",
    "        else:\n",
    "            with amp.autocast():\n",
    "                out_fr = 0.\n",
    "                for t in range(timesteps):\n",
    "                    encoded_img = encoder(x)\n",
    "                    out_fr += model(encoded_img)\n",
    "                out_fr = out_fr / timesteps\n",
    "                loss = F.mse_loss(out_fr, label_onehot)\n",
    "            scaler.scale(loss).backward()\n",
    "            scaler.step(optimizer)\n",
    "            scaler.update()\n",
    "        \n",
    "        train_samples += label.numel()\n",
    "        train_loss += loss.item() * label.numel()\n",
    "        train_acc += (out_fr.argmax(1) == label).float().sum().item()\n",
    "\n",
    "        functional.reset_net(model) #need to reset the snn before reuse\n",
    "    print('epoch: ' + str(epoch) + '; loss' + str(train_loss))"
   ]
  },
  {
   "cell_type": "markdown",
   "metadata": {},
   "source": [
    "Save the SNN Model so that you do not have to retrain"
   ]
  },
  {
   "cell_type": "code",
   "execution_count": 9,
   "metadata": {},
   "outputs": [],
   "source": [
    "input('are you sure you want to save the moel?')\n",
    "file_dir = './Models/'\n",
    "if not os.path.exists(file_dir):\n",
    "    os.makedirs(file_dir)\n",
    "    print(f'Mkdir {file_dir}.')\n",
    "full_path = file_dir + '/SingleLayer_SNN.pt'\n",
    "torch.save(model.state_dict(), f=full_path)"
   ]
  },
  {
   "cell_type": "markdown",
   "metadata": {},
   "source": [
    "Load Model"
   ]
  },
  {
   "cell_type": "code",
   "execution_count": 10,
   "metadata": {},
   "outputs": [
    {
     "data": {
      "text/plain": [
       "<All keys matched successfully>"
      ]
     },
     "execution_count": 10,
     "metadata": {},
     "output_type": "execute_result"
    }
   ],
   "source": [
    "file_dir = './Models/'\n",
    "full_path = file_dir + '/SingleLayer_SNN.pt'\n",
    "checkpoint = torch.load(f=full_path)\n",
    "model.load_state_dict(checkpoint)"
   ]
  },
  {
   "cell_type": "code",
   "execution_count": 11,
   "metadata": {},
   "outputs": [
    {
     "name": "stdout",
     "output_type": "stream",
     "text": [
      "0.9209\n"
     ]
    }
   ],
   "source": [
    "#test the accuracy\n",
    "model.eval()\n",
    "test_loss = 0\n",
    "test_acc = 0\n",
    "test_samples = 0\n",
    "with torch.no_grad():\n",
    "    for x, label in test_data_loader:\n",
    "        x = x.to(device)\n",
    "        # print(x.shape)\n",
    "        x = torch.reshape(x, (x.shape[0], -1))\n",
    "        label = label.to(device)\n",
    "        label_onehot = F.one_hot(label, 10).float()\n",
    "        out_fr = 0.\n",
    "        for t in range(timesteps):\n",
    "            encoded_img = encoder(x)\n",
    "            out_fr += model(encoded_img)\n",
    "        out_fr = out_fr / timesteps\n",
    "        loss = F.mse_loss(out_fr, label_onehot)\n",
    "\n",
    "        test_samples += label.numel()\n",
    "        test_loss += loss.item() * label.numel()\n",
    "        test_acc += (out_fr.argmax(1) == label).float().sum().item()\n",
    "        functional.reset_net(model)\n",
    "test_time = time.time()\n",
    "# test_speed = test_samples / (test_time - train_time)\n",
    "test_loss /= test_samples\n",
    "test_acc /= test_samples\n",
    "# writer.add_scalar('test_loss', test_loss, epoch)\n",
    "# writer.add_scalar('test_acc', test_acc, epoch)\n",
    "print(test_acc)"
   ]
  },
  {
   "cell_type": "markdown",
   "metadata": {},
   "source": [
    "Get Spike Counts"
   ]
  },
  {
   "cell_type": "code",
   "execution_count": 12,
   "metadata": {},
   "outputs": [],
   "source": [
    "spike_monitor = monitor.OutputMonitor(model, neuron.LIFNode)"
   ]
  },
  {
   "cell_type": "code",
   "execution_count": 13,
   "metadata": {},
   "outputs": [
    {
     "name": "stdout",
     "output_type": "stream",
     "text": [
      "0.9208\n",
      "0.9208\n",
      "SNN(\n",
      "  (layer1): Sequential(\n",
      "    (0): Linear(in_features=784, out_features=10, bias=False)\n",
      "    (1): LIFNode(\n",
      "      v_threshold=1.0, v_reset=0.0, detach_reset=False, step_mode=s, backend=torch, tau=2.0\n",
      "      (surrogate_function): ATan(alpha=2.0, spiking=True)\n",
      "    )\n",
      "  )\n",
      ")\n",
      "total spikes: 143701.0\n",
      "spike_seq_monitor.records=\n",
      "4695\n"
     ]
    }
   ],
   "source": [
    "spike_monitor = monitor.OutputMonitor(model, neuron.LIFNode)\n",
    "#test the accuracy\n",
    "model.eval()\n",
    "test_loss = 0\n",
    "test_acc = 0\n",
    "test_samples = 0\n",
    "z = 0\n",
    "with torch.no_grad():\n",
    "    for x, label in test_data_loader:\n",
    "        x = x.to(device)\n",
    "        # print(x.shape)\n",
    "        x = torch.reshape(x, (x.shape[0], -1))\n",
    "        label = label.to(device)\n",
    "        label_onehot = F.one_hot(label, 10).float()\n",
    "        out_fr = 0.\n",
    "        for t in range(timesteps):\n",
    "            encoded_img = encoder(x)\n",
    "            out_fr += model(encoded_img)\n",
    "        out_fr = out_fr / timesteps\n",
    "        loss = F.mse_loss(out_fr, label_onehot)\n",
    "\n",
    "        test_samples += label.numel()\n",
    "        test_loss += loss.item() * label.numel()\n",
    "        test_acc += (out_fr.argmax(1) == label).float().sum().item()\n",
    "        functional.reset_net(model)\n",
    "        # if z > 1:\n",
    "        #     break\n",
    "        # z += 1\n",
    "test_time = time.time()\n",
    "# test_speed = test_samples / (test_time - train_time)\n",
    "test_loss /= test_samples\n",
    "test_acc /= test_samples\n",
    "# writer.add_scalar('test_loss', test_loss, epoch)\n",
    "# writer.add_scalar('test_acc', test_acc, epoch)\n",
    "print(test_acc)\n",
    "print(test_samples)\n",
    "print(model)\n",
    "total_spikes = 0\n",
    "for tens in spike_monitor.records:\n",
    "    tensnp = tens.cpu().numpy()\n",
    "    total_spikes += np.sum(tensnp)\n",
    "print('total spikes: ' + str(total_spikes))\n",
    "print(f'spike_seq_monitor.records=\\n{len(spike_monitor.records)}')\n",
    "print('total time steps: ' + str(timesteps*test_samples))"
   ]
  }
 ],
 "metadata": {
  "kernelspec": {
   "display_name": "colab_env",
   "language": "python",
   "name": "python3"
  },
  "language_info": {
   "codemirror_mode": {
    "name": "ipython",
    "version": 3
   },
   "file_extension": ".py",
   "mimetype": "text/x-python",
   "name": "python",
   "nbconvert_exporter": "python",
   "pygments_lexer": "ipython3",
   "version": "3.10.11"
  }
 },
 "nbformat": 4,
 "nbformat_minor": 2
}
