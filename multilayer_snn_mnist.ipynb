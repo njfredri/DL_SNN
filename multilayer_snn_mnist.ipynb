{
 "cells": [
  {
   "cell_type": "markdown",
   "metadata": {},
   "source": [
    "Make more complex snn to classify MNIST"
   ]
  },
  {
   "cell_type": "code",
   "execution_count": 1,
   "metadata": {},
   "outputs": [
    {
     "name": "stdout",
     "output_type": "stream",
     "text": [
      "cuda\n"
     ]
    }
   ],
   "source": [
    "import os\n",
    "import time\n",
    "import argparse\n",
    "import sys\n",
    "import datetime\n",
    "import torch\n",
    "import torchvision\n",
    "import torch.nn as nn\n",
    "import torch.nn.functional as F\n",
    "import torch.utils.data as data\n",
    "from torch.cuda import amp\n",
    "import numpy as np\n",
    "from torch.utils.tensorboard import SummaryWriter\n",
    "from spikingjelly.activation_based import lava_exchange\n",
    "\n",
    "\n",
    "from spikingjelly.activation_based import neuron, layer, functional, monitor\n",
    "from spikingjelly.activation_based import surrogate, encoding\n",
    "\n",
    "device = None\n",
    "if torch.cuda.is_available():\n",
    "    device = torch.device('cuda')\n",
    "else:\n",
    "    device = torch.device('cpu')\n",
    "print(device)"
   ]
  },
  {
   "cell_type": "markdown",
   "metadata": {},
   "source": [
    "Define Model"
   ]
  },
  {
   "cell_type": "code",
   "execution_count": 2,
   "metadata": {},
   "outputs": [],
   "source": [
    "class SNN(nn.Module):\n",
    "    def __init__(self, tau):\n",
    "        super().__init__()\n",
    "        self.layer1 = nn.Sequential(\n",
    "            layer.Linear(28*28, 300, bias=False),\n",
    "            neuron.LIFNode(tau=tau, surrogate_function=surrogate.ATan()), #leaky relu does not work here\n",
    "            layer.Linear(300, 100, bias=False),\n",
    "            neuron.LIFNode(tau=tau, surrogate_function=surrogate.ATan()),\n",
    "            layer.Linear(100, 10, bias=False),\n",
    "            neuron.LIFNode(tau=tau, surrogate_function=surrogate.ATan())\n",
    "        )\n",
    "    def forward(self, x: torch.Tensor):\n",
    "        # print(x.shape)\n",
    "        return self.layer1(x)"
   ]
  },
  {
   "cell_type": "markdown",
   "metadata": {},
   "source": [
    "Create a model with a default tau value"
   ]
  },
  {
   "cell_type": "code",
   "execution_count": 3,
   "metadata": {},
   "outputs": [],
   "source": [
    "tau = 2.0 #membrane time constant. \n",
    "#^ A default value in some of the spikingjelly repo files.\n",
    "model = SNN(tau=tau).to(device=device)"
   ]
  },
  {
   "cell_type": "markdown",
   "metadata": {},
   "source": [
    "Download the MNIST dataset and make train and test datasets"
   ]
  },
  {
   "cell_type": "code",
   "execution_count": 4,
   "metadata": {},
   "outputs": [],
   "source": [
    "data_dir='./data'\n",
    "train_dataset = torchvision.datasets.MNIST(\n",
    "    root=data_dir,\n",
    "    train=True,\n",
    "    transform=torchvision.transforms.ToTensor(),\n",
    "    download=True\n",
    ")\n",
    "test_dataset = torchvision.datasets.MNIST(\n",
    "    root=data_dir,\n",
    "    train=False,\n",
    "    transform=torchvision.transforms.ToTensor(),\n",
    "    download=True\n",
    ")"
   ]
  },
  {
   "cell_type": "code",
   "execution_count": 5,
   "metadata": {},
   "outputs": [],
   "source": [
    "batch_size=32\n",
    "num_workers=10 #todo: see if this can be increased with more cores\n",
    "train_data_loader = data.DataLoader(\n",
    "    dataset=train_dataset,\n",
    "    batch_size=batch_size,\n",
    "    shuffle=True,\n",
    "    drop_last=True,\n",
    "    num_workers=num_workers,\n",
    "    pin_memory=True\n",
    ")\n",
    "test_data_loader = data.DataLoader(\n",
    "    dataset=test_dataset,\n",
    "    batch_size=batch_size,\n",
    "    shuffle=False,\n",
    "    drop_last=False,\n",
    "    num_workers=num_workers,\n",
    "    pin_memory=True\n",
    ")"
   ]
  },
  {
   "cell_type": "markdown",
   "metadata": {},
   "source": [
    "More settings"
   ]
  },
  {
   "cell_type": "code",
   "execution_count": 6,
   "metadata": {},
   "outputs": [],
   "source": [
    "EPOCHS=50\n",
    "AMP=True #automatic mixed precision training\n",
    "lr= 0.001\n",
    "optimizer = torch.optim.Adam(model.parameters(), lr=lr)\n",
    "out_dir = \"./outputs/SLM\"\n",
    "encoder = encoding.PoissonEncoder()\n",
    "timesteps = 7"
   ]
  },
  {
   "cell_type": "markdown",
   "metadata": {},
   "source": [
    "Make settings for AMP and outputs"
   ]
  },
  {
   "cell_type": "code",
   "execution_count": 7,
   "metadata": {},
   "outputs": [],
   "source": [
    "scaler = None\n",
    "if AMP:\n",
    "    scaler = amp.GradScaler()\n",
    "if not os.path.exists(out_dir):\n",
    "    os.makedirs(out_dir)\n",
    "    print(f'Mkdir {out_dir}.')\n",
    "\n",
    "writer = SummaryWriter(out_dir, purge_step=0)\n",
    "with open(os.path.join(out_dir, 'args.txt'), 'w', encoding='utf-8') as args_txt:\n",
    "    args_txt.write('\\n')\n",
    "    args_txt.write(' '.join(sys.argv))"
   ]
  },
  {
   "cell_type": "markdown",
   "metadata": {},
   "source": [
    "Start training"
   ]
  },
  {
   "cell_type": "code",
   "execution_count": 27,
   "metadata": {},
   "outputs": [
    {
     "name": "stdout",
     "output_type": "stream",
     "text": [
      "epoch: 0; loss920.2040770859458\n",
      "epoch: 1; loss349.62652620649897\n",
      "epoch: 2; loss247.34693526127376\n",
      "epoch: 3; loss190.851017216919\n",
      "epoch: 4; loss158.6285681053996\n",
      "epoch: 5; loss127.71020067110658\n",
      "epoch: 6; loss110.57958878297359\n",
      "epoch: 7; loss92.87550707161427\n",
      "epoch: 8; loss80.0224457604345\n",
      "epoch: 9; loss70.5571399484761\n",
      "epoch: 10; loss54.138772702077404\n",
      "epoch: 11; loss53.95509942807257\n",
      "epoch: 12; loss54.302037885878235\n",
      "epoch: 13; loss53.62652755971067\n",
      "epoch: 14; loss54.326527395285666\n",
      "epoch: 15; loss53.32448676391505\n",
      "epoch: 16; loss54.05714001180604\n",
      "epoch: 17; loss53.85305854212493\n",
      "epoch: 18; loss54.25305845984258\n",
      "epoch: 19; loss53.52244611410424\n",
      "epoch: 20; loss53.40407901443541\n",
      "epoch: 21; loss53.277548099868\n",
      "epoch: 22; loss53.28979330020957\n",
      "epoch: 23; loss52.97550752595998\n",
      "epoch: 24; loss52.74897676799446\n",
      "epoch: 25; loss53.746936118463054\n",
      "epoch: 26; loss54.66326257446781\n",
      "epoch: 27; loss54.573466473957524\n",
      "epoch: 28; loss54.04489515302703\n",
      "epoch: 29; loss54.197956297313794\n",
      "epoch: 30; loss53.76122123003006\n",
      "epoch: 31; loss53.35101770143956\n",
      "epoch: 32; loss52.597956312587485\n",
      "epoch: 33; loss53.742854312760755\n",
      "epoch: 34; loss53.306119572371244\n",
      "epoch: 35; loss54.118364497087896\n",
      "epoch: 36; loss52.19795648474246\n",
      "epoch: 37; loss54.01224231906235\n",
      "epoch: 38; loss54.46734406403266\n",
      "epoch: 39; loss52.61428292328492\n",
      "epoch: 40; loss54.09999712952413\n",
      "epoch: 41; loss54.88162976456806\n",
      "epoch: 42; loss54.34081342816353\n",
      "epoch: 43; loss52.70407852320932\n",
      "epoch: 44; loss53.47550741303712\n",
      "epoch: 45; loss52.70203817030415\n",
      "epoch: 46; loss53.914283049991354\n",
      "epoch: 47; loss53.91020125430077\n",
      "epoch: 48; loss53.85509930644184\n",
      "epoch: 49; loss53.218364572152495\n"
     ]
    }
   ],
   "source": [
    "functional.reset_net(model)\n",
    "for epoch in range(EPOCHS):\n",
    "    start_time = time.time()\n",
    "    model.train()\n",
    "    train_loss = 0\n",
    "    train_acc = 0\n",
    "    train_samples = 0\n",
    "    for x, label in train_data_loader:\n",
    "        x = x.to(device)\n",
    "        x = torch.reshape(x, (batch_size, -1))\n",
    "        label = label.to(device)\n",
    "        label_onehot = F.one_hot(label, 10).float()\n",
    "\n",
    "        if scaler is None:\n",
    "            out_fr = 0.\n",
    "            for t in range(timesteps):\n",
    "                encoded_img = encoder(x)\n",
    "                out_fr += model(encoded_img)\n",
    "            out_fr = out_fr / timesteps\n",
    "            loss = F.mse_loss(out_fr, label_onehot)\n",
    "            loss.backward()\n",
    "            optimizer.step()\n",
    "        else:\n",
    "            with amp.autocast():\n",
    "                out_fr = 0.\n",
    "                for t in range(timesteps):\n",
    "                    encoded_img = encoder(x)\n",
    "                    out_fr += model(encoded_img)\n",
    "                out_fr = out_fr / timesteps\n",
    "                loss = F.mse_loss(out_fr, label_onehot)\n",
    "            scaler.scale(loss).backward()\n",
    "            scaler.step(optimizer)\n",
    "            scaler.update()\n",
    "        \n",
    "        train_samples += label.numel()\n",
    "        train_loss += loss.item() * label.numel()\n",
    "        train_acc += (out_fr.argmax(1) == label).float().sum().item()\n",
    "\n",
    "        functional.reset_net(model) #need to reset the snn before reuse\n",
    "    print('epoch: ' + str(epoch) + '; loss' + str(train_loss))"
   ]
  },
  {
   "cell_type": "markdown",
   "metadata": {},
   "source": [
    "Save the SNN Model so that you do not have to retrain"
   ]
  },
  {
   "cell_type": "code",
   "execution_count": 28,
   "metadata": {},
   "outputs": [],
   "source": [
    "input('are you sure you want to save the moel?')\n",
    "file_dir = './Models/'\n",
    "if not os.path.exists(file_dir):\n",
    "    os.makedirs(file_dir)\n",
    "    print(f'Mkdir {file_dir}.')\n",
    "full_path = file_dir + '/MultiLayer_SNN.pt'\n",
    "torch.save(model.state_dict(), f=full_path)"
   ]
  },
  {
   "cell_type": "markdown",
   "metadata": {},
   "source": [
    "Load Model"
   ]
  },
  {
   "cell_type": "code",
   "execution_count": 8,
   "metadata": {},
   "outputs": [
    {
     "data": {
      "text/plain": [
       "<All keys matched successfully>"
      ]
     },
     "execution_count": 8,
     "metadata": {},
     "output_type": "execute_result"
    }
   ],
   "source": [
    "file_dir = './Models/'\n",
    "full_path = file_dir + '/MultiLayer_SNN.pt'\n",
    "checkpoint = torch.load(f=full_path)\n",
    "model.load_state_dict(checkpoint)"
   ]
  },
  {
   "cell_type": "code",
   "execution_count": 9,
   "metadata": {},
   "outputs": [
    {
     "name": "stdout",
     "output_type": "stream",
     "text": [
      "0.9812\n"
     ]
    }
   ],
   "source": [
    "#test the accuracy\n",
    "model.eval()\n",
    "test_loss = 0\n",
    "test_acc = 0\n",
    "test_samples = 0\n",
    "with torch.no_grad():\n",
    "    for x, label in test_data_loader:\n",
    "        x = x.to(device)\n",
    "        # print(x.shape)\n",
    "        x = torch.reshape(x, (x.shape[0], -1))\n",
    "        label = label.to(device)\n",
    "        label_onehot = F.one_hot(label, 10).float()\n",
    "        out_fr = 0.\n",
    "        for t in range(timesteps):\n",
    "            encoded_img = encoder(x)\n",
    "            out_fr += model(encoded_img)\n",
    "        out_fr = out_fr / timesteps\n",
    "        loss = F.mse_loss(out_fr, label_onehot)\n",
    "\n",
    "        test_samples += label.numel()\n",
    "        test_loss += loss.item() * label.numel()\n",
    "        test_acc += (out_fr.argmax(1) == label).float().sum().item()\n",
    "        functional.reset_net(model)\n",
    "test_time = time.time()\n",
    "# test_speed = test_samples / (test_time - train_time)\n",
    "test_loss /= test_samples\n",
    "test_acc /= test_samples\n",
    "# writer.add_scalar('test_loss', test_loss, epoch)\n",
    "# writer.add_scalar('test_acc', test_acc, epoch)\n",
    "print(test_acc)"
   ]
  },
  {
   "cell_type": "markdown",
   "metadata": {},
   "source": [
    "Get Spike Counts"
   ]
  },
  {
   "cell_type": "code",
   "execution_count": 10,
   "metadata": {},
   "outputs": [],
   "source": [
    "spike_monitor = monitor.OutputMonitor(model, neuron.LIFNode)"
   ]
  },
  {
   "cell_type": "code",
   "execution_count": 11,
   "metadata": {},
   "outputs": [
    {
     "name": "stdout",
     "output_type": "stream",
     "text": [
      "0.981\n",
      "10000\n",
      "SNN(\n",
      "  (layer1): Sequential(\n",
      "    (0): Linear(in_features=784, out_features=300, bias=False)\n",
      "    (1): LIFNode(\n",
      "      v_threshold=1.0, v_reset=0.0, detach_reset=False, step_mode=s, backend=torch, tau=2.0\n",
      "      (surrogate_function): ATan(alpha=2.0, spiking=True)\n",
      "    )\n",
      "    (2): Linear(in_features=300, out_features=100, bias=False)\n",
      "    (3): LIFNode(\n",
      "      v_threshold=1.0, v_reset=0.0, detach_reset=False, step_mode=s, backend=torch, tau=2.0\n",
      "      (surrogate_function): ATan(alpha=2.0, spiking=True)\n",
      "    )\n",
      "    (4): Linear(in_features=100, out_features=10, bias=False)\n",
      "    (5): LIFNode(\n",
      "      v_threshold=1.0, v_reset=0.0, detach_reset=False, step_mode=s, backend=torch, tau=2.0\n",
      "      (surrogate_function): ATan(alpha=2.0, spiking=True)\n",
      "    )\n",
      "  )\n",
      ")\n",
      "total spikes: 10354139.0\n",
      "spike_seq_monitor.records=\n",
      "6573\n",
      "total time steps: 70000\n"
     ]
    }
   ],
   "source": [
    "spike_monitor = monitor.OutputMonitor(model, neuron.LIFNode)\n",
    "#test the accuracy\n",
    "start_time = time.time()\n",
    "model.eval()\n",
    "test_loss = 0\n",
    "test_acc = 0\n",
    "test_samples = 0\n",
    "z = 0\n",
    "with torch.no_grad():\n",
    "    for x, label in test_data_loader:\n",
    "        x = x.to(device)\n",
    "        # print(x.shape)\n",
    "        x = torch.reshape(x, (x.shape[0], -1))\n",
    "        label = label.to(device)\n",
    "        label_onehot = F.one_hot(label, 10).float()\n",
    "        out_fr = 0.\n",
    "        for t in range(timesteps):\n",
    "            encoded_img = encoder(x)\n",
    "            out_fr += model(encoded_img)\n",
    "        out_fr = out_fr / timesteps\n",
    "        loss = F.mse_loss(out_fr, label_onehot)\n",
    "\n",
    "        test_samples += label.numel()\n",
    "        test_loss += loss.item() * label.numel()\n",
    "        test_acc += (out_fr.argmax(1) == label).float().sum().item()\n",
    "        functional.reset_net(model)\n",
    "        # if z > 1:\n",
    "        #     break\n",
    "        # z += 1\n",
    "test_time = time.time()\n",
    "# test_speed = test_samples / (test_time - train_time)\n",
    "test_loss /= test_samples\n",
    "test_acc /= test_samples\n",
    "# writer.add_scalar('test_loss', test_loss, epoch)\n",
    "# writer.add_scalar('test_acc', test_acc, epoch)\n",
    "print(test_acc)\n",
    "print(test_samples)\n",
    "print(model)\n",
    "total_spikes = 0\n",
    "for tens in spike_monitor.records:\n",
    "    tensnp = tens.cpu().numpy()\n",
    "    total_spikes += np.sum(tensnp)\n",
    "print('total spikes: ' + str(total_spikes))\n",
    "print(f'spike_seq_monitor.records=\\n{len(spike_monitor.records)}')\n",
    "print('total time steps: ' + str(timesteps*test_samples))"
   ]
  },
  {
   "cell_type": "markdown",
   "metadata": {},
   "source": [
    "Calculate Power"
   ]
  },
  {
   "cell_type": "code",
   "execution_count": 12,
   "metadata": {},
   "outputs": [
    {
     "name": "stdout",
     "output_type": "stream",
     "text": [
      "total power (watts): 9.965001770699999\n"
     ]
    }
   ],
   "source": [
    "neurons = 410\n",
    "Pi = 0.25\n",
    "Pb = 4/1000\n",
    "Pn = 0.0234 #watts (J per second)\n",
    "Ps = 11.3 * (10**-9)\n",
    "\n",
    "power = Pi + Pb + (neurons * Pn) + (total_spikes * Ps)\n",
    "print('total power (watts): ' + str(power))"
   ]
  },
  {
   "cell_type": "code",
   "execution_count": 13,
   "metadata": {},
   "outputs": [
    {
     "name": "stdout",
     "output_type": "stream",
     "text": [
      "torch.Size([32, 300])\n",
      "6573\n",
      "spike_seq_monitor.monitored_layers=['layer1.1', 'layer1.3', 'layer1.5']\n",
      "torch.Size([300, 784])\n",
      "300\n",
      "torch.Size([100, 300])\n",
      "100\n",
      "torch.Size([10, 100])\n",
      "10\n"
     ]
    }
   ],
   "source": [
    "print(spike_monitor.records[0].shape)\n",
    "print(len(spike_monitor.records))\n",
    "print(f'spike_seq_monitor.monitored_layers={spike_monitor.monitored_layers}')\n",
    "for p in model.parameters():\n",
    "    print(p.shape)\n",
    "    print(len(p))"
   ]
  },
  {
   "cell_type": "markdown",
   "metadata": {},
   "source": [
    "Visualize the output"
   ]
  },
  {
   "cell_type": "code",
   "execution_count": 14,
   "metadata": {},
   "outputs": [],
   "source": [
    "batch_size=1\n",
    "num_workers=10 #todo: see if this can be increased with more cores\n",
    "train_data_loader = data.DataLoader(\n",
    "    dataset=train_dataset,\n",
    "    batch_size=batch_size,\n",
    "    shuffle=True,\n",
    "    drop_last=True,\n",
    "    num_workers=num_workers,\n",
    "    pin_memory=True\n",
    ")\n",
    "test_data_loader = data.DataLoader(\n",
    "    dataset=test_dataset,\n",
    "    batch_size=batch_size,\n",
    "    shuffle=False,\n",
    "    drop_last=False,\n",
    "    num_workers=num_workers,\n",
    "    pin_memory=True\n",
    ")"
   ]
  },
  {
   "cell_type": "code",
   "execution_count": 15,
   "metadata": {},
   "outputs": [
    {
     "name": "stdout",
     "output_type": "stream",
     "text": [
      "tensor([[0., 0., 0., 0., 0., 0., 0., 1., 0., 0.]], device='cuda:0')\n",
      "(784,)\n",
      "(300,)\n",
      "(10,)\n",
      "(7, 784)\n",
      "(7, 300)\n",
      "(7, 10)\n",
      "(28, 28)\n"
     ]
    }
   ],
   "source": [
    "spike_monitor = monitor.OutputMonitor(model, neuron.LIFNode)\n",
    "#test the accuracy\n",
    "start_time = time.time()\n",
    "model.eval()\n",
    "test_loss = 0\n",
    "test_acc = 0\n",
    "test_samples = 0\n",
    "out_list = []\n",
    "in_list = []\n",
    "v_list = []\n",
    "image_data = 0\n",
    "with torch.no_grad():\n",
    "    for x, label in test_data_loader:\n",
    "        image_data = x.numpy()\n",
    "        x = x.to(device)\n",
    "        x = torch.reshape(x, (x.shape[0], -1))\n",
    "        label = label.to(device)\n",
    "        label_onehot = F.one_hot(label, 10).float()\n",
    "        out_fr = 0.\n",
    "        for t in range(timesteps):\n",
    "            encoded_img = encoder(x)\n",
    "            in_list.append(encoded_img.cpu().squeeze(0).numpy())\n",
    "            out = model(encoded_img)\n",
    "            out_list.append(out.cpu().squeeze(0).numpy())\n",
    "            out_fr += out\n",
    "            v_list.append((model.layer1[1].v).cpu().squeeze(0).numpy())\n",
    "        out_fr = out_fr / timesteps\n",
    "        print(out_fr)\n",
    "        functional.reset_net(model)\n",
    "        break\n",
    "\n",
    "\n",
    "print(in_list[0].shape)\n",
    "print(v_list[0].shape)\n",
    "print(out_list[0].shape)\n",
    "\n",
    "in_np = np.stack(in_list, axis=0) #axis 0 should be the timestep\n",
    "v_np = np.stack(v_list, axis=0) #axis 0 should be the timestep\n",
    "out_np = np.stack(out_list, axis=0) #axis 0 should be the timestep\n",
    "print(in_np.shape)\n",
    "print(v_np.shape)\n",
    "print(out_np.shape)\n",
    "print(np.squeeze(image_data).shape)\n",
    "np.savetxt(fname=\"./Output_Image_Data/input_spikes.txt\", X=in_np)\n",
    "np.savetxt(fname=\"./Output_Image_Data/voltages.txt\", X=v_np)\n",
    "np.savetxt(fname=\"./Output_Image_Data/output_spikes.txt\", X=out_np)\n",
    "np.savetxt(fname=\"./Output_Image_Data/img_data.txt\", X=np.squeeze(image_data))\n",
    "# f_in = open(\"./Output_Image_Data/input_spikes.txt\", 'x')\n",
    "# f_v = open(\"./Output_Image_Data/voltages.txt\", 'x')\n",
    "# f_out = open(\"./Output_Image_Data/output_spikes.txt\", 'x')\n",
    "# f_im = open(\"./Output_Image_Data/img_data.txt\", 'x')\n"
   ]
  },
  {
   "cell_type": "markdown",
   "metadata": {},
   "source": []
  }
 ],
 "metadata": {
  "kernelspec": {
   "display_name": "colab_env",
   "language": "python",
   "name": "python3"
  },
  "language_info": {
   "codemirror_mode": {
    "name": "ipython",
    "version": 3
   },
   "file_extension": ".py",
   "mimetype": "text/x-python",
   "name": "python",
   "nbconvert_exporter": "python",
   "pygments_lexer": "ipython3",
   "version": "3.10.11"
  }
 },
 "nbformat": 4,
 "nbformat_minor": 2
}
