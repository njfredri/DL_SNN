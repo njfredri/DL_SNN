{
 "cells": [
  {
   "cell_type": "code",
   "execution_count": 3,
   "metadata": {},
   "outputs": [
    {
     "name": "stderr",
     "output_type": "stream",
     "text": [
      "WARNING:root:IFNode(\n",
      "  v_threshold=1.0, v_reset=0.0, detach_reset=False, step_mode=s, backend=torch\n",
      "  (surrogate_function): Sigmoid(alpha=4.0, spiking=True)\n",
      ") supports for step_mode == 's', which should not be contained by StepModeContainer!\n"
     ]
    }
   ],
   "source": [
    "import torch\n",
    "from spikingjelly.activation_based import neuron, layer, functional, monitor\n",
    "#net is what I added\n",
    "net = layer.StepModeContainer(\n",
    "    True,\n",
    "    neuron.IFNode()\n",
    ")\n",
    "spike_seq_monitor = monitor.OutputMonitor(net, neuron.IFNode)\n",
    "T = 4\n",
    "N = 1\n",
    "x_seq = torch.rand([T, N, 8])\n",
    "\n",
    "\n",
    "with torch.no_grad():\n",
    "    net(x_seq)"
   ]
  }
 ],
 "metadata": {
  "kernelspec": {
   "display_name": "colab_env",
   "language": "python",
   "name": "python3"
  },
  "language_info": {
   "codemirror_mode": {
    "name": "ipython",
    "version": 3
   },
   "file_extension": ".py",
   "mimetype": "text/x-python",
   "name": "python",
   "nbconvert_exporter": "python",
   "pygments_lexer": "ipython3",
   "version": "3.10.11"
  }
 },
 "nbformat": 4,
 "nbformat_minor": 2
}
