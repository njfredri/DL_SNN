{
 "cells": [
  {
   "cell_type": "code",
   "execution_count": 8,
   "metadata": {},
   "outputs": [
    {
     "ename": "ImportError",
     "evalue": "cannot import name 'to_lava_neuron' from 'spikingjelly.activation_based.lava_exchange' (c:\\Users\\Nathan\\.conda\\envs\\python_env1\\lib\\site-packages\\spikingjelly\\activation_based\\lava_exchange.py)",
     "output_type": "error",
     "traceback": [
      "\u001b[1;31m---------------------------------------------------------------------------\u001b[0m",
      "\u001b[1;31mImportError\u001b[0m                               Traceback (most recent call last)",
      "\u001b[1;32mc:\\Users\\Nathan\\Desktop\\DL_SNN\\DL_SNN\\Convert_Models_To_Lava_Loihi.ipynb Cell 1\u001b[0m line \u001b[0;36m1\n\u001b[0;32m     <a href='vscode-notebook-cell:/c%3A/Users/Nathan/Desktop/DL_SNN/DL_SNN/Convert_Models_To_Lava_Loihi.ipynb#W1sZmlsZQ%3D%3D?line=9'>10</a>\u001b[0m \u001b[39mfrom\u001b[39;00m \u001b[39mtorch\u001b[39;00m\u001b[39m.\u001b[39;00m\u001b[39mutils\u001b[39;00m\u001b[39m.\u001b[39;00m\u001b[39mtensorboard\u001b[39;00m \u001b[39mimport\u001b[39;00m SummaryWriter\n\u001b[0;32m     <a href='vscode-notebook-cell:/c%3A/Users/Nathan/Desktop/DL_SNN/DL_SNN/Convert_Models_To_Lava_Loihi.ipynb#W1sZmlsZQ%3D%3D?line=10'>11</a>\u001b[0m \u001b[39mfrom\u001b[39;00m \u001b[39mspikingjelly\u001b[39;00m\u001b[39m.\u001b[39;00m\u001b[39mactivation_based\u001b[39;00m \u001b[39mimport\u001b[39;00m lava_exchange\n\u001b[1;32m---> <a href='vscode-notebook-cell:/c%3A/Users/Nathan/Desktop/DL_SNN/DL_SNN/Convert_Models_To_Lava_Loihi.ipynb#W1sZmlsZQ%3D%3D?line=11'>12</a>\u001b[0m \u001b[39mfrom\u001b[39;00m \u001b[39mspikingjelly\u001b[39;00m\u001b[39m.\u001b[39;00m\u001b[39mactivation_based\u001b[39;00m\u001b[39m.\u001b[39;00m\u001b[39mlava_exchange\u001b[39;00m \u001b[39mimport\u001b[39;00m to_lava_neuron, linear_to_lava_synapse_dense\n\u001b[0;32m     <a href='vscode-notebook-cell:/c%3A/Users/Nathan/Desktop/DL_SNN/DL_SNN/Convert_Models_To_Lava_Loihi.ipynb#W1sZmlsZQ%3D%3D?line=12'>13</a>\u001b[0m \u001b[39mimport\u001b[39;00m \u001b[39mos\u001b[39;00m\n\u001b[0;32m     <a href='vscode-notebook-cell:/c%3A/Users/Nathan/Desktop/DL_SNN/DL_SNN/Convert_Models_To_Lava_Loihi.ipynb#W1sZmlsZQ%3D%3D?line=13'>14</a>\u001b[0m \u001b[39mimport\u001b[39;00m \u001b[39mtime\u001b[39;00m\n",
      "\u001b[1;31mImportError\u001b[0m: cannot import name 'to_lava_neuron' from 'spikingjelly.activation_based.lava_exchange' (c:\\Users\\Nathan\\.conda\\envs\\python_env1\\lib\\site-packages\\spikingjelly\\activation_based\\lava_exchange.py)"
     ]
    }
   ],
   "source": [
    "# spikingjelly.activation_based.examples.conv_fashion_mnist\n",
    "import matplotlib.pyplot as plt\n",
    "import torch\n",
    "import torch.nn as nn\n",
    "import torch.nn.functional as F\n",
    "import torchvision\n",
    "from torchvision import transforms\n",
    "from spikingjelly.activation_based import encoding, monitor\n",
    "from spikingjelly.activation_based import neuron, functional, surrogate, layer\n",
    "from torch.utils.tensorboard import SummaryWriter\n",
    "from spikingjelly.activation_based import lava_exchange\n",
    "#Even trying to import gives an error?\n",
    "# from spikingjelly.activation_based.lava_exchange import to_lava_neuron, linear_to_lava_synapse_dense\n",
    "import os\n",
    "import time\n",
    "import argparse\n",
    "from torch.cuda import amp\n",
    "import sys\n",
    "import datetime\n",
    "from spikingjelly import visualizing\n",
    "import numpy as np\n",
    "\n",
    "device = None\n",
    "if torch.cuda.is_available():\n",
    "    device = torch.device('cuda')\n",
    "else:\n",
    "    device = torch.device('cpu')\n",
    "print(device)"
   ]
  },
  {
   "cell_type": "markdown",
   "metadata": {},
   "source": [
    "Model classes to load up"
   ]
  },
  {
   "cell_type": "code",
   "execution_count": 2,
   "metadata": {},
   "outputs": [],
   "source": [
    "class SCNN(nn.Module):\n",
    "    def __init__(self, T: int):\n",
    "        super().__init__()\n",
    "        self.T = T\n",
    "        self.conv_and_fc = nn.Sequential(\n",
    "            layer.Conv2d(in_channels=1, out_channels=6, kernel_size=5, padding=2, bias=False),\n",
    "            layer.BatchNorm2d(6),\n",
    "            neuron.LIFNode(surrogate_function=surrogate.ATan()),\n",
    "            layer.MaxPool2d(kernel_size=2, stride=2),\n",
    "\n",
    "            layer.Conv2d(in_channels=6, out_channels=12, kernel_size=5, bias=False),\n",
    "            layer.BatchNorm2d(12),\n",
    "            neuron.LIFNode(surrogate_function=surrogate.ATan()),\n",
    "            layer.MaxPool2d(kernel_size=2, stride=2),\n",
    "\n",
    "            layer.Flatten(),\n",
    "            layer.Linear(5*5*12, 10, bias=False),\n",
    "            neuron.LIFNode(surrogate_function=surrogate.ATan()),\n",
    "            # layer.Linear(120, 84),\n",
    "            # neuron.IFNode(surrogate_function=surrogate.LeakyKReLU()),\n",
    "            # layer.Linear(84, 10),\n",
    "            # neuron.IFNode(surrogate_function=surrogate.ATan())\n",
    "            )\n",
    "        functional.set_step_mode(self, step_mode='m')\n",
    "    def forward(self, x):\n",
    "        x_seq = x.unsqueeze(0).repeat(self.T, 1, 1, 1, 1)\n",
    "        z = self.conv_and_fc(x_seq)\n",
    "        fr = z.mean(0)\n",
    "        return fr"
   ]
  },
  {
   "cell_type": "code",
   "execution_count": 3,
   "metadata": {},
   "outputs": [],
   "source": [
    "class SNN(nn.Module):\n",
    "    def __init__(self, tau):\n",
    "        super().__init__()\n",
    "        self.layer1 = nn.Sequential(\n",
    "            layer.Linear(28*28, 10, bias=False),\n",
    "            neuron.LIFNode(tau=tau, surrogate_function=surrogate.ATan())\n",
    "        )\n",
    "    def forward(self, x: torch.Tensor):\n",
    "        # print(x.shape)\n",
    "        return self.layer1(x)"
   ]
  },
  {
   "cell_type": "code",
   "execution_count": 4,
   "metadata": {},
   "outputs": [
    {
     "data": {
      "text/plain": [
       "<All keys matched successfully>"
      ]
     },
     "execution_count": 4,
     "metadata": {},
     "output_type": "execute_result"
    }
   ],
   "source": [
    "single_model = SNN(tau=2.0)\n",
    "file_dir = './Models/'\n",
    "full_path = file_dir + '/SingleLayer_SNN.pt'\n",
    "checkpoint = torch.load(f=full_path)\n",
    "single_model.load_state_dict(checkpoint)"
   ]
  },
  {
   "cell_type": "code",
   "execution_count": 1,
   "metadata": {},
   "outputs": [
    {
     "ename": "NameError",
     "evalue": "name 'single_model' is not defined",
     "output_type": "error",
     "traceback": [
      "\u001b[1;31m---------------------------------------------------------------------------\u001b[0m",
      "\u001b[1;31mNameError\u001b[0m                                 Traceback (most recent call last)",
      "\u001b[1;32mc:\\Users\\Nathan\\Desktop\\DL_SNN\\DL_SNN\\Convert_Models_To_Lava_Loihi.ipynb Cell 6\u001b[0m line \u001b[0;36m3\n\u001b[0;32m      <a href='vscode-notebook-cell:/c%3A/Users/Nathan/Desktop/DL_SNN/DL_SNN/Convert_Models_To_Lava_Loihi.ipynb#W5sZmlsZQ%3D%3D?line=0'>1</a>\u001b[0m \u001b[39m#I do not understand why none of the functions are accessible\u001b[39;00m\n\u001b[0;32m      <a href='vscode-notebook-cell:/c%3A/Users/Nathan/Desktop/DL_SNN/DL_SNN/Convert_Models_To_Lava_Loihi.ipynb#W5sZmlsZQ%3D%3D?line=1'>2</a>\u001b[0m \u001b[39m#Functions are in the file, they just can't be called\u001b[39;00m\n\u001b[1;32m----> <a href='vscode-notebook-cell:/c%3A/Users/Nathan/Desktop/DL_SNN/DL_SNN/Convert_Models_To_Lava_Loihi.ipynb#W5sZmlsZQ%3D%3D?line=2'>3</a>\u001b[0m single_lava \u001b[39m=\u001b[39m single_model\n\u001b[0;32m      <a href='vscode-notebook-cell:/c%3A/Users/Nathan/Desktop/DL_SNN/DL_SNN/Convert_Models_To_Lava_Loihi.ipynb#W5sZmlsZQ%3D%3D?line=3'>4</a>\u001b[0m \u001b[39mprint\u001b[39m(lava_exchange\u001b[39m.\u001b[39mlinear_to_lava_synapse_dense())\n\u001b[0;32m      <a href='vscode-notebook-cell:/c%3A/Users/Nathan/Desktop/DL_SNN/DL_SNN/Convert_Models_To_Lava_Loihi.ipynb#W5sZmlsZQ%3D%3D?line=4'>5</a>\u001b[0m single_lava\u001b[39m.\u001b[39mconv_and_fc[\u001b[39m0\u001b[39m] \u001b[39m=\u001b[39m lava_exchange\u001b[39m.\u001b[39mlinear_to_lava_synapse_dense(single_model\u001b[39m.\u001b[39mlayer1[\u001b[39m0\u001b[39m])\n",
      "\u001b[1;31mNameError\u001b[0m: name 'single_model' is not defined"
     ]
    }
   ],
   "source": [
    "#I do not understand why none of the functions are accessible\n",
    "#Functions are in the file, they just can't be called\n",
    "single_lava = single_model\n",
    "print(lava_exchange.linear_to_lava_synapse_dense())\n",
    "single_lava.conv_and_fc[0] = lava_exchange.linear_to_lava_synapse_dense(single_model.layer1[0])\n",
    "single_lava.conv_and_fc[1] = lava_exchange.to_lava_neuron(single_model.layer1[1])"
   ]
  }
 ],
 "metadata": {
  "kernelspec": {
   "display_name": "python_env1",
   "language": "python",
   "name": "python3"
  },
  "language_info": {
   "codemirror_mode": {
    "name": "ipython",
    "version": 3
   },
   "file_extension": ".py",
   "mimetype": "text/x-python",
   "name": "python",
   "nbconvert_exporter": "python",
   "pygments_lexer": "ipython3",
   "version": "3.10.11"
  }
 },
 "nbformat": 4,
 "nbformat_minor": 2
}
