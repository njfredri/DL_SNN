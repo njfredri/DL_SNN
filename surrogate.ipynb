{
 "cells": [
  {
   "cell_type": "markdown",
   "metadata": {},
   "source": [
    "To use the surrogate function:"
   ]
  },
  {
   "cell_type": "code",
   "execution_count": 1,
   "metadata": {},
   "outputs": [
    {
     "name": "stdout",
     "output_type": "stream",
     "text": [
      "x=tensor([ 0.3771, -0.0237,  0.1165, -0.2282, -0.2768,  0.1094, -0.0201,  0.2136],\n",
      "       requires_grad=True)\n",
      "y=tensor([1., 0., 1., 0., 0., 1., 0., 1.], grad_fn=<sigmoidBackward>)\n",
      "x.grad=tensor([0.5934, 0.9977, 0.9476, 0.8176, 0.7468, 0.9536, 0.9984, 0.8376])\n"
     ]
    }
   ],
   "source": [
    "import torch\n",
    "from spikingjelly.activation_based import surrogate\n",
    "\n",
    "sg = surrogate.Sigmoid(alpha=4.)\n",
    "\n",
    "x = torch.rand([8]) - 0.5\n",
    "x.requires_grad = True\n",
    "y = sg(x)\n",
    "y.sum().backward()\n",
    "print(f'x={x}')\n",
    "print(f'y={y}')\n",
    "print(f'x.grad={x.grad}')"
   ]
  },
  {
   "cell_type": "markdown",
   "metadata": {},
   "source": [
    "Here is an example of using the functional API"
   ]
  },
  {
   "cell_type": "code",
   "execution_count": 2,
   "metadata": {},
   "outputs": [
    {
     "name": "stdout",
     "output_type": "stream",
     "text": [
      "x=tensor([ 0.2440, -0.2308,  0.2528,  0.4872, -0.3665,  0.2594, -0.2082, -0.2509],\n",
      "       requires_grad=True)\n",
      "y=tensor([1., 0., 1., 1., 0., 1., 0., 0.], grad_fn=<sigmoidBackward>)\n",
      "x.grad=tensor([0.7951, 0.8139, 0.7824, 0.4365, 0.6095, 0.7727, 0.8448, 0.7852])\n"
     ]
    },
    {
     "ename": "",
     "evalue": "",
     "output_type": "error",
     "traceback": [
      "\u001b[1;31mThe Kernel crashed while executing code in the the current cell or a previous cell. Please review the code in the cell(s) to identify a possible cause of the failure. Click <a href='https://aka.ms/vscodeJupyterKernelCrash'>here</a> for more info. View Jupyter <a href='command:jupyter.viewOutput'>log</a> for further details."
     ]
    }
   ],
   "source": [
    "import torch\n",
    "from spikingjelly.activation_based import surrogate\n",
    "\n",
    "alpha = 4.\n",
    "x = torch.rand([8]) - 0.5\n",
    "x.requires_grad = True\n",
    "y = surrogate.sigmoid.apply(x, alpha)\n",
    "y.sum().backward()\n",
    "print(f'x={x}')\n",
    "print(f'y={y}')\n",
    "print(f'x.grad={x.grad}')"
   ]
  },
  {
   "cell_type": "markdown",
   "metadata": {},
   "source": [
    "Todo: add in visualizing module"
   ]
  }
 ],
 "metadata": {
  "kernelspec": {
   "display_name": "colab_env",
   "language": "python",
   "name": "python3"
  },
  "language_info": {
   "codemirror_mode": {
    "name": "ipython",
    "version": 3
   },
   "file_extension": ".py",
   "mimetype": "text/x-python",
   "name": "python",
   "nbconvert_exporter": "python",
   "pygments_lexer": "ipython3",
   "version": "3.10.11"
  }
 },
 "nbformat": 4,
 "nbformat_minor": 2
}
