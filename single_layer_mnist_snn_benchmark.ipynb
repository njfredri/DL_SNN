{
 "cells": [
  {
   "cell_type": "markdown",
   "metadata": {},
   "source": [
    "Make simple snn to classify MNIST"
   ]
  },
  {
   "cell_type": "code",
   "execution_count": 1,
   "metadata": {},
   "outputs": [
    {
     "name": "stdout",
     "output_type": "stream",
     "text": [
      "cuda\n"
     ]
    }
   ],
   "source": [
    "import os\n",
    "import time\n",
    "import argparse\n",
    "import sys\n",
    "import datetime\n",
    "import torch\n",
    "import torchvision\n",
    "import torch.nn as nn\n",
    "import torch.nn.functional as F\n",
    "import torch.utils.data as data\n",
    "from torch.cuda import amp\n",
    "import numpy as np\n",
    "from torch.utils.tensorboard import SummaryWriter\n",
    "\n",
    "from spikingjelly.activation_based import neuron, layer, functional, monitor\n",
    "from spikingjelly.activation_based import surrogate, encoding\n",
    "\n",
    "device = None\n",
    "if torch.cuda.is_available():\n",
    "    device = torch.device('cuda')\n",
    "else:\n",
    "    device = torch.device('cpu')\n",
    "print(device)"
   ]
  },
  {
   "cell_type": "markdown",
   "metadata": {},
   "source": [
    "Define Model"
   ]
  },
  {
   "cell_type": "code",
   "execution_count": 2,
   "metadata": {},
   "outputs": [],
   "source": [
    "class SNN(nn.Module):\n",
    "    def __init__(self, tau):\n",
    "        super().__init__()\n",
    "        self.layer1 = nn.Sequential(\n",
    "            layer.Linear(28*28, 10, bias=False),\n",
    "            neuron.LIFNode(tau=tau, surrogate_function=surrogate.ATan())\n",
    "        )\n",
    "    def forward(self, x: torch.Tensor):\n",
    "        # print(x.shape)\n",
    "        return self.layer1(x)"
   ]
  },
  {
   "cell_type": "markdown",
   "metadata": {},
   "source": [
    "Create a model with a default tau value"
   ]
  },
  {
   "cell_type": "code",
   "execution_count": 3,
   "metadata": {},
   "outputs": [],
   "source": [
    "tau = 2.0 #membrane time constant. \n",
    "#^ A default value in some of the spikingjelly repo files.\n",
    "model = SNN(tau=tau).to(device=device)"
   ]
  },
  {
   "cell_type": "markdown",
   "metadata": {},
   "source": [
    "Download the MNIST dataset and make train and test datasets"
   ]
  },
  {
   "cell_type": "code",
   "execution_count": 4,
   "metadata": {},
   "outputs": [],
   "source": [
    "data_dir='./data'\n",
    "train_dataset = torchvision.datasets.MNIST(\n",
    "    root=data_dir,\n",
    "    train=True,\n",
    "    transform=torchvision.transforms.ToTensor(),\n",
    "    download=True\n",
    ")\n",
    "test_dataset = torchvision.datasets.MNIST(\n",
    "    root=data_dir,\n",
    "    train=False,\n",
    "    transform=torchvision.transforms.ToTensor(),\n",
    "    download=True\n",
    ")"
   ]
  },
  {
   "cell_type": "code",
   "execution_count": 5,
   "metadata": {},
   "outputs": [],
   "source": [
    "batch_size=32\n",
    "num_workers=10 #todo: see if this can be increased with more cores\n",
    "train_data_loader = data.DataLoader(\n",
    "    dataset=train_dataset,\n",
    "    batch_size=batch_size,\n",
    "    shuffle=True,\n",
    "    drop_last=True,\n",
    "    num_workers=num_workers,\n",
    "    pin_memory=True\n",
    ")\n",
    "test_data_loader = data.DataLoader(\n",
    "    dataset=test_dataset,\n",
    "    batch_size=batch_size,\n",
    "    shuffle=False,\n",
    "    drop_last=False,\n",
    "    num_workers=num_workers,\n",
    "    pin_memory=True\n",
    ")"
   ]
  },
  {
   "cell_type": "markdown",
   "metadata": {},
   "source": [
    "More settings"
   ]
  },
  {
   "cell_type": "code",
   "execution_count": 6,
   "metadata": {},
   "outputs": [],
   "source": [
    "EPOCHS=100\n",
    "AMP=True #automatic mixed precision training\n",
    "lr= 0.001\n",
    "optimizer = torch.optim.Adam(model.parameters(), lr=lr)\n",
    "out_dir = \"./outputs/SLM\"\n",
    "encoder = encoding.PoissonEncoder()\n",
    "timesteps = 100"
   ]
  },
  {
   "cell_type": "markdown",
   "metadata": {},
   "source": [
    "Make settings for AMP and outputs"
   ]
  },
  {
   "cell_type": "code",
   "execution_count": 7,
   "metadata": {},
   "outputs": [],
   "source": [
    "scaler = None\n",
    "if AMP:\n",
    "    scaler = amp.GradScaler()\n",
    "if not os.path.exists(out_dir):\n",
    "    os.makedirs(out_dir)\n",
    "    print(f'Mkdir {out_dir}.')\n",
    "\n",
    "writer = SummaryWriter(out_dir, purge_step=0)\n",
    "with open(os.path.join(out_dir, 'args.txt'), 'w', encoding='utf-8') as args_txt:\n",
    "    args_txt.write('\\n')\n",
    "    args_txt.write(' '.join(sys.argv))"
   ]
  },
  {
   "cell_type": "markdown",
   "metadata": {},
   "source": [
    "Start training"
   ]
  },
  {
   "cell_type": "code",
   "execution_count": 42,
   "metadata": {},
   "outputs": [
    {
     "name": "stdout",
     "output_type": "stream",
     "text": [
      "epoch: 0; loss1465.4321936815977\n",
      "epoch: 1; loss1074.6598600372672\n",
      "epoch: 2; loss1013.7691004052758\n",
      "epoch: 3; loss978.1228725686669\n",
      "epoch: 4; loss955.739439509809\n",
      "epoch: 5; loss936.859009757638\n",
      "epoch: 6; loss925.2431800663471\n",
      "epoch: 7; loss916.6635410562158\n",
      "epoch: 8; loss893.2880175858736\n",
      "epoch: 9; loss893.4390191398561\n",
      "epoch: 10; loss893.4556886255741\n",
      "epoch: 11; loss892.8046701513231\n",
      "epoch: 12; loss892.7847896181047\n",
      "epoch: 13; loss892.8264885768294\n",
      "epoch: 14; loss892.7614993713796\n",
      "epoch: 15; loss893.962477080524\n",
      "epoch: 16; loss893.4855384528637\n",
      "epoch: 17; loss893.6630686409771\n",
      "epoch: 18; loss893.4488283991814\n",
      "epoch: 19; loss892.6274483725429\n",
      "epoch: 20; loss893.0832287408412\n",
      "epoch: 21; loss893.6761670857668\n",
      "epoch: 22; loss893.6992178708315\n",
      "epoch: 23; loss892.9940860755742\n",
      "epoch: 24; loss892.7976972423494\n",
      "epoch: 25; loss892.8244476206601\n",
      "epoch: 26; loss893.2834375761449\n",
      "epoch: 27; loss893.6475564651191\n",
      "epoch: 28; loss893.0162987858057\n",
      "epoch: 29; loss893.0060585215688\n",
      "epoch: 30; loss893.222606703639\n",
      "epoch: 31; loss893.0115782096982\n",
      "epoch: 32; loss893.2436358816922\n",
      "epoch: 33; loss893.1942690014839\n",
      "epoch: 34; loss893.4078981429338\n",
      "epoch: 35; loss893.2915872503072\n",
      "epoch: 36; loss893.5777776958421\n",
      "epoch: 37; loss893.0780270807445\n",
      "epoch: 38; loss893.4553671479225\n",
      "epoch: 39; loss893.2776658125222\n",
      "epoch: 40; loss892.9317373111844\n",
      "epoch: 41; loss893.5130781941116\n",
      "epoch: 42; loss893.136537745595\n",
      "epoch: 43; loss892.9060862660408\n",
      "epoch: 44; loss893.0651671178639\n",
      "epoch: 45; loss892.9477877467871\n",
      "epoch: 46; loss893.3197974488139\n",
      "epoch: 47; loss893.670327115804\n",
      "epoch: 48; loss892.2255080752075\n",
      "epoch: 49; loss893.0036185383797\n",
      "epoch: 50; loss893.6763562448323\n",
      "epoch: 51; loss893.5215170569718\n",
      "epoch: 52; loss892.2962578684092\n",
      "epoch: 53; loss892.7309566140175\n",
      "epoch: 54; loss893.4850978851318\n",
      "epoch: 55; loss893.108949072659\n",
      "epoch: 56; loss892.8368677198887\n",
      "epoch: 57; loss893.13375582546\n",
      "epoch: 58; loss893.2624896541238\n",
      "epoch: 59; loss893.3275394327939\n",
      "epoch: 60; loss892.6685585267842\n",
      "epoch: 61; loss893.0556662902236\n",
      "epoch: 62; loss893.5536646321416\n",
      "epoch: 63; loss893.4016060903668\n",
      "epoch: 64; loss893.8710966818035\n",
      "epoch: 65; loss893.1385671682656\n",
      "epoch: 66; loss893.6008179076016\n",
      "epoch: 67; loss892.5365472268313\n",
      "epoch: 68; loss892.8918778896332\n",
      "epoch: 69; loss892.8394782878458\n",
      "epoch: 70; loss892.939398445189\n",
      "epoch: 71; loss893.3865293525159\n",
      "epoch: 72; loss893.286226503551\n",
      "epoch: 73; loss893.6929277330637\n",
      "epoch: 74; loss892.5039297118783\n",
      "epoch: 75; loss892.6152390092611\n",
      "epoch: 76; loss893.0053862370551\n",
      "epoch: 77; loss892.9735863208771\n",
      "epoch: 78; loss893.5076788589358\n",
      "epoch: 79; loss892.3172864988446\n",
      "epoch: 80; loss893.530549492687\n",
      "epoch: 81; loss892.3479170799255\n",
      "epoch: 82; loss892.6945385038853\n",
      "epoch: 83; loss892.206445671618\n",
      "epoch: 84; loss893.8308075293899\n",
      "epoch: 85; loss892.4415283836424\n",
      "epoch: 86; loss892.923528175801\n",
      "epoch: 87; loss892.3593883402646\n",
      "epoch: 88; loss893.209297157824\n",
      "epoch: 89; loss893.0867681913078\n",
      "epoch: 90; loss892.6540875546634\n",
      "epoch: 91; loss892.6201861165464\n",
      "epoch: 92; loss893.013196323067\n",
      "epoch: 93; loss893.2061087936163\n",
      "epoch: 94; loss893.5234560649842\n",
      "epoch: 95; loss893.4991956464946\n",
      "epoch: 96; loss892.5685265436769\n",
      "epoch: 97; loss892.5859887078404\n",
      "epoch: 98; loss893.1743474453688\n",
      "epoch: 99; loss892.4377178549767\n"
     ]
    }
   ],
   "source": [
    "functional.reset_net(model)\n",
    "for epoch in range(EPOCHS):\n",
    "    start_time = time.time()\n",
    "    model.train()\n",
    "    train_loss = 0\n",
    "    train_acc = 0\n",
    "    train_samples = 0\n",
    "    for x, label in train_data_loader:\n",
    "        x = x.to(device)\n",
    "        x = torch.reshape(x, (batch_size, -1))\n",
    "        label = label.to(device)\n",
    "        label_onehot = F.one_hot(label, 10).float()\n",
    "\n",
    "        if scaler is None:\n",
    "            out_fr = 0.\n",
    "            for t in range(timesteps):\n",
    "                encoded_img = encoder(x)\n",
    "                out_fr += model(encoded_img)\n",
    "            out_fr = out_fr / timesteps\n",
    "            loss = F.mse_loss(out_fr, label_onehot)\n",
    "            loss.backward()\n",
    "            optimizer.step()\n",
    "        else:\n",
    "            with amp.autocast():\n",
    "                out_fr = 0.\n",
    "                for t in range(timesteps):\n",
    "                    encoded_img = encoder(x)\n",
    "                    out_fr += model(encoded_img)\n",
    "                out_fr = out_fr / timesteps\n",
    "                loss = F.mse_loss(out_fr, label_onehot)\n",
    "            scaler.scale(loss).backward()\n",
    "            scaler.step(optimizer)\n",
    "            scaler.update()\n",
    "        \n",
    "        train_samples += label.numel()\n",
    "        train_loss += loss.item() * label.numel()\n",
    "        train_acc += (out_fr.argmax(1) == label).float().sum().item()\n",
    "\n",
    "        functional.reset_net(model) #need to reset the snn before reuse\n",
    "    print('epoch: ' + str(epoch) + '; loss' + str(train_loss))"
   ]
  },
  {
   "cell_type": "markdown",
   "metadata": {},
   "source": [
    "Save the SNN Model so that you do not have to retrain"
   ]
  },
  {
   "cell_type": "code",
   "execution_count": 43,
   "metadata": {},
   "outputs": [],
   "source": [
    "file_dir = './Models/'\n",
    "if not os.path.exists(file_dir):\n",
    "    os.makedirs(file_dir)\n",
    "    print(f'Mkdir {file_dir}.')\n",
    "input('are you sure you want to save the model?')\n",
    "full_path = file_dir + '/SingleLayer_SNN.pt'\n",
    "torch.save(model.state_dict(), f=full_path)"
   ]
  },
  {
   "cell_type": "markdown",
   "metadata": {},
   "source": [
    "Load Model"
   ]
  },
  {
   "cell_type": "code",
   "execution_count": 8,
   "metadata": {},
   "outputs": [
    {
     "data": {
      "text/plain": [
       "<All keys matched successfully>"
      ]
     },
     "execution_count": 8,
     "metadata": {},
     "output_type": "execute_result"
    }
   ],
   "source": [
    "file_dir = './Models/'\n",
    "full_path = file_dir + '/SingleLayer_SNN.pt'\n",
    "checkpoint = torch.load(f=full_path)\n",
    "model.load_state_dict(checkpoint)"
   ]
  },
  {
   "cell_type": "code",
   "execution_count": 9,
   "metadata": {},
   "outputs": [
    {
     "name": "stdout",
     "output_type": "stream",
     "text": [
      "0.9236\n"
     ]
    }
   ],
   "source": [
    "#test the accuracy\n",
    "model.eval()\n",
    "test_loss = 0\n",
    "test_acc = 0\n",
    "test_samples = 0\n",
    "with torch.no_grad():\n",
    "    for x, label in test_data_loader:\n",
    "        x = x.to(device)\n",
    "        # print(x.shape)\n",
    "        x = torch.reshape(x, (x.shape[0], -1))\n",
    "        label = label.to(device)\n",
    "        label_onehot = F.one_hot(label, 10).float()\n",
    "        out_fr = 0.\n",
    "        for t in range(timesteps):\n",
    "            encoded_img = encoder(x)\n",
    "            out_fr += model(encoded_img)\n",
    "        out_fr = out_fr / timesteps\n",
    "        loss = F.mse_loss(out_fr, label_onehot)\n",
    "\n",
    "        test_samples += label.numel()\n",
    "        test_loss += loss.item() * label.numel()\n",
    "        test_acc += (out_fr.argmax(1) == label).float().sum().item()\n",
    "        functional.reset_net(model)\n",
    "test_time = time.time()\n",
    "# test_speed = test_samples / (test_time - train_time)\n",
    "test_loss /= test_samples\n",
    "test_acc /= test_samples\n",
    "# writer.add_scalar('test_loss', test_loss, epoch)\n",
    "# writer.add_scalar('test_acc', test_acc, epoch)\n",
    "print(test_acc)"
   ]
  },
  {
   "cell_type": "markdown",
   "metadata": {},
   "source": [
    "Get Spike Counts"
   ]
  },
  {
   "cell_type": "code",
   "execution_count": 14,
   "metadata": {},
   "outputs": [],
   "source": [
    "spike_monitor = monitor.OutputMonitor(model, neuron.LIFNode)"
   ]
  },
  {
   "cell_type": "code",
   "execution_count": 27,
   "metadata": {},
   "outputs": [
    {
     "name": "stdout",
     "output_type": "stream",
     "text": [
      "0.9236\n",
      "0.9236\n",
      "SNN(\n",
      "  (layer1): Sequential(\n",
      "    (0): Linear(in_features=784, out_features=10, bias=False)\n",
      "    (1): LIFNode(\n",
      "      v_threshold=1.0, v_reset=0.0, detach_reset=False, step_mode=s, backend=torch, tau=2.0\n",
      "      (surrogate_function): ATan(alpha=2.0, spiking=True)\n",
      "    )\n",
      "  )\n",
      ")\n",
      "total spikes: 986453.0\n",
      "spike_seq_monitor.records=\n",
      "31300\n"
     ]
    }
   ],
   "source": [
    "spike_monitor = monitor.OutputMonitor(model, neuron.LIFNode)\n",
    "#test the accuracy\n",
    "model.eval()\n",
    "test_loss = 0\n",
    "test_acc = 0\n",
    "test_samples = 0\n",
    "z = 0\n",
    "with torch.no_grad():\n",
    "    for x, label in test_data_loader:\n",
    "        x = x.to(device)\n",
    "        # print(x.shape)\n",
    "        x = torch.reshape(x, (x.shape[0], -1))\n",
    "        label = label.to(device)\n",
    "        label_onehot = F.one_hot(label, 10).float()\n",
    "        out_fr = 0.\n",
    "        for t in range(timesteps):\n",
    "            encoded_img = encoder(x)\n",
    "            out_fr += model(encoded_img)\n",
    "        out_fr = out_fr / timesteps\n",
    "        loss = F.mse_loss(out_fr, label_onehot)\n",
    "\n",
    "        test_samples += label.numel()\n",
    "        test_loss += loss.item() * label.numel()\n",
    "        test_acc += (out_fr.argmax(1) == label).float().sum().item()\n",
    "        functional.reset_net(model)\n",
    "        # if z > 1:\n",
    "        #     break\n",
    "        # z += 1\n",
    "test_time = time.time()\n",
    "# test_speed = test_samples / (test_time - train_time)\n",
    "test_loss /= test_samples\n",
    "test_acc /= test_samples\n",
    "# writer.add_scalar('test_loss', test_loss, epoch)\n",
    "# writer.add_scalar('test_acc', test_acc, epoch)\n",
    "print(test_acc)\n",
    "print(test_acc)\n",
    "print(model)\n",
    "total_spikes = 0\n",
    "for tens in spike_monitor.records:\n",
    "    tensnp = tens.cpu().numpy()\n",
    "    total_spikes += np.sum(tensnp)\n",
    "print('total spikes: ' + str(total_spikes))\n",
    "print(f'spike_seq_monitor.records=\\n{len(spike_monitor.records)}')"
   ]
  }
 ],
 "metadata": {
  "kernelspec": {
   "display_name": "colab_env",
   "language": "python",
   "name": "python3"
  },
  "language_info": {
   "codemirror_mode": {
    "name": "ipython",
    "version": 3
   },
   "file_extension": ".py",
   "mimetype": "text/x-python",
   "name": "python",
   "nbconvert_exporter": "python",
   "pygments_lexer": "ipython3",
   "version": "3.10.11"
  }
 },
 "nbformat": 4,
 "nbformat_minor": 2
}
