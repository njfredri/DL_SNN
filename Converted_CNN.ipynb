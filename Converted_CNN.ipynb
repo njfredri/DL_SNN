{
 "cells": [
  {
   "cell_type": "code",
   "execution_count": null,
   "metadata": {},
   "outputs": [],
   "source": [
    "class LeNet(nn.Module):\n",
    "    def __init__(self):\n",
    "        super(LeNet, self).__init__()\n",
    "        #5x5 kernal on 28x28 image. Should have 2 padding for \"32x32\" image\n",
    "        self.c1 = nn.Conv2d(in_channels=1, kernel_size=5, padding=2, out_channels=6) #results in 28x28 in 6 channels. Should have 1 channel-in bc it is one image at first\n",
    "        #Relu 28x28 -> 28x28\n",
    "        #Max pool 28x28 -> 14x14 (stride=2)\n",
    "        self.c2 = nn.Conv2d(in_channels=6, kernel_size=5, out_channels=16) #6 channels to 16 channels. 14x14 -> 10x10 with 5x5kernel\n",
    "        #relu 10x10->10x10\n",
    "        #max pool 10x10 -> 5x5\n",
    "        self.fc1 = nn.Linear(25*16, 120) #5x5 images, 16 channels in. 120 out\n",
    "        self.fc2 = nn.Linear(120, 84) #120 -> 84\n",
    "        self.fc3 = nn.Linear(84, 10)\n",
    "\n",
    "    def forward(self, x):\n",
    "        #C1 Relu max pool\n",
    "        x = F.relu(self.c1(x))\n",
    "        x = F.max_pool2d(x, kernel_size=(2,2), stride=(2,2))\n",
    "        #c2 relu max pool\n",
    "        x = F.relu(self.c2(x))\n",
    "        x = F.max_pool2d(x, kernel_size=(2,2), stride=(2,2))\n",
    "        #fc layers\n",
    "        x = x.view(-1, 5*5*16)\n",
    "        x = F.relu(self.fc1(x))\n",
    "        x = F.relu(self.fc2(x))\n",
    "        x = self.fc3(x)\n",
    "        return x\n",
    "\n",
    "    def name(self):\n",
    "        return \"LeNet\""
   ]
  }
 ],
 "metadata": {
  "language_info": {
   "name": "python"
  }
 },
 "nbformat": 4,
 "nbformat_minor": 2
}
